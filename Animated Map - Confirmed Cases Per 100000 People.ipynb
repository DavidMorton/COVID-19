{
 "cells": [
  {
   "cell_type": "code",
   "execution_count": 7,
   "metadata": {},
   "outputs": [
    {
     "name": "stdout",
     "output_type": "stream",
     "text": [
      "Already up to date.\r\n"
     ]
    }
   ],
   "source": [
    "%matplotlib inline\n",
    "%config InlineBackend.print_figure_kwargs={'facecolor' : \"#1f1e1e\"}\n",
    "\n",
    "import io\n",
    "import os\n",
    "import pandas as pd\n",
    "import numpy as np\n",
    "import random\n",
    "import seaborn as sns\n",
    "import matplotlib.pyplot as plt\n",
    "import plotly.express as px\n",
    "import plotly.graph_objects as go\n",
    "from datetime import datetime, timedelta\n",
    "from IPython.display import Markdown, display, Image\n",
    "from PIL import Image as PILImage\n",
    "\n",
    "# LOCAL GIT REPOSITORY LOCATION FOR https://github.com/CSSEGISandData/COVID-19\n",
    "directory = '/Users/davidmorton/Documents/COVID-19/csse_covid_19_data/csse_covid_19_daily_reports_us/'\n",
    "\n",
    "!git -C $local_covid_19_data pull\n",
    "\n",
    "states_to_drop = ['Puerto Rico', 'American Samoa', 'Guam', 'District of Columbia', 'Northern Mariana Islands', 'Virgin Islands']\n",
    "\n",
    "state_names = pd.read_csv('states.csv').set_index('State').to_dict()['Abbreviation']"
   ]
  },
  {
   "cell_type": "code",
   "execution_count": 22,
   "metadata": {},
   "outputs": [],
   "source": [
    "def load_csv(directory, f):\n",
    "    result = pd.read_csv(directory + f)\n",
    "    result['date'] = datetime.strptime(f, '%m-%d-%Y.csv')\n",
    "    return result\n",
    "\n",
    "def get_daily_report_data():\n",
    "    return pd.concat([load_csv(directory, f) for f in os.listdir(directory) if f.endswith(\".csv\")])\n",
    "\n",
    "def get_heatmap_data():\n",
    "    return (\n",
    "        get_daily_report_data()         # Get latest from the directory. \n",
    "        .copy()                         # Copy from the original to save time loading the data.\n",
    "        .rename(columns={               # Rename the columns to shorter names\n",
    "            'Province_State':'state', \n",
    "            'Incident_Rate':'rate'\n",
    "        }) \n",
    "        [['state','date','rate']]       # Drop unnecessary columns\n",
    "        .pivot(                         # Create a pivot table from the data.\n",
    "            index='date', \n",
    "            columns='state', \n",
    "            values='rate'\n",
    "        ) \n",
    "        .drop([                         # Keep the 50 states only.\n",
    "            'Puerto Rico', \n",
    "            'American Samoa', \n",
    "            'Guam', \n",
    "            'District of Columbia', \n",
    "            'Northern Mariana Islands', \n",
    "            'Virgin Islands', \n",
    "            'Diamond Princess', \n",
    "            'Grand Princess', \n",
    "            'Recovered'\n",
    "        ], axis=1)   \n",
    "        .diff()                         # Get the date-to-date difference.\n",
    "        .clip(0, 30)                    # Clip the data at 30 percent. Some data points are too high. \n",
    "        .replace(0, np.nan)             # Get rid of pure 0 values. We'll interpolate these.\n",
    "        .interpolate()                  # Interpolate the newly NAN values.\n",
    "        .rolling(window=7).mean()       # 7-Day Rolling Average for smoothness.\n",
    "        .dropna()                       # Drop the first few rows which are a result of the 7-Day rolling average\n",
    "        .rename(state_names, axis=1)    # Rename the state names to abbreviations\n",
    "    )\n",
    "\n",
    "def make_usa_choropleth(series, locations, title, colorbartitle, colorspectrum, zmax):\n",
    "    \n",
    "\n",
    "    fig = go.Figure(\n",
    "        data=go.Choropleth(\n",
    "            locations=locations,\n",
    "            z = series,\n",
    "            locationmode = 'USA-states',\n",
    "            colorscale = colorspectrum,\n",
    "            colorbar_title = colorbartitle, \n",
    "            zmax=zmax,\n",
    "            zmin=0\n",
    "        )\n",
    "    )\n",
    "\n",
    "    fig.update_layout(\n",
    "        title_text = title,\n",
    "        geo_scope='usa', # limite map scope to USA\n",
    "    )\n",
    "\n",
    "    return fig;\n",
    "\n",
    "def make_animation(totalduration, pausetime, timeinterpolation, theme):\n",
    "    bgcolor=\"black\"\n",
    "    data = get_heatmap_data()\n",
    "    data = data.rename(state_names, axis=1)\n",
    "    \n",
    "    vals = data.values.flatten().flatten()\n",
    "    vals.sort()\n",
    "    bins = pd.qcut(vals, q=8, retbins=True)[1]\n",
    "    colorstops = (bins - bins.min()) / (bins.max() - bins.min())\n",
    "    colorscale = list(zip(colorstops, getattr(px.colors.sequential, theme)))\n",
    "    zmax = vals.max()\n",
    "\n",
    "    data = data.resample(rule=timeinterpolation).asfreq().interpolate()\n",
    "    \n",
    "    adjduration = totalduration-pausetime;\n",
    "    perslide = round((adjduration*1000)/len(data));\n",
    "    repeatlast = round((pausetime*1000)/perslide)\n",
    "    print('Frames will be shown for {0} milliseconds'.format(perslide))\n",
    "    \n",
    "    images = []\n",
    "    for i in range(len(data)):\n",
    "        row = data.iloc[i]\n",
    "        fig = make_usa_choropleth(row, row.index, 'COVID-19 Confirmed Cases Per 100,000 People - ' + row.name.strftime('%B %d') + ' - {:.0f} Avg'.format(row.mean()), '', colorscale, zmax)\n",
    "        fig.update_layout(\n",
    "            plot_bgcolor=bgcolor,\n",
    "            paper_bgcolor=bgcolor,\n",
    "            font=dict(color=\"white\"),\n",
    "            geo = dict(\n",
    "                lakecolor=bgcolor,\n",
    "                showlakes=True,\n",
    "                bgcolor=bgcolor\n",
    "            )\n",
    "        )\n",
    "        img_bytes = fig.to_image(format='png')\n",
    "        image = PILImage.open(io.BytesIO(img_bytes))\n",
    "\n",
    "        images.append(image)\n",
    "        if (i == (len(data) - 1)):\n",
    "            for j in range(1,repeatlast):\n",
    "                images.append(image)\n",
    "        \n",
    "    url = 'covid19-map-case-incidence-rate.gif'\n",
    "    images[0].save(url,\n",
    "                   save_all=True, append_images=images[1:], optimize=True, duration=perslide, loop=0)\n",
    "    return url + \"?c=\" + str(random.randint(0,2e9))\n"
   ]
  },
  {
   "cell_type": "code",
   "execution_count": 23,
   "metadata": {},
   "outputs": [
    {
     "name": "stdout",
     "output_type": "stream",
     "text": [
      "Frames will be shown for 83 milliseconds\n"
     ]
    },
    {
     "data": {
      "text/html": [
       "<img src=\"covid19-map-case-incidence-rate.gif?c=203197636\"/>"
      ],
      "text/plain": [
       "<IPython.core.display.Image object>"
      ]
     },
     "execution_count": 23,
     "metadata": {},
     "output_type": "execute_result"
    }
   ],
   "source": [
    "url = make_animation(30, 5, '6H', \"Inferno\")\n",
    "Image(url=url)"
   ]
  },
  {
   "cell_type": "code",
   "execution_count": null,
   "metadata": {},
   "outputs": [],
   "source": []
  }
 ],
 "metadata": {
  "kernelspec": {
   "display_name": "Python 3",
   "language": "python",
   "name": "python3"
  },
  "language_info": {
   "codemirror_mode": {
    "name": "ipython",
    "version": 3
   },
   "file_extension": ".py",
   "mimetype": "text/x-python",
   "name": "python",
   "nbconvert_exporter": "python",
   "pygments_lexer": "ipython3",
   "version": "3.7.7"
  }
 },
 "nbformat": 4,
 "nbformat_minor": 4
}
