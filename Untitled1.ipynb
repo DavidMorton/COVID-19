{
 "cells": [
  {
   "cell_type": "code",
   "execution_count": 4,
   "metadata": {},
   "outputs": [],
   "source": [
    "import pandas as pd\n",
    "import numpy as np\n",
    "import json"
   ]
  },
  {
   "cell_type": "code",
   "execution_count": 5,
   "metadata": {},
   "outputs": [],
   "source": [
    "json_input_str = '''{\\\n",
    "                \"variable_liquid_portion\": [\n",
    "                    [\n",
    "                        3.0\n",
    "                    ]\n",
    "                ],\n",
    "                \"variable_gas_opex\": [\n",
    "                    [\n",
    "                        0.5\n",
    "                    ]\n",
    "                ],\n",
    "\n",
    "                \"delta_opex_first_oil\": [\n",
    "                    [\n",
    "                        1.0\n",
    "                    ]\n",
    "                ],                \n",
    "                \"reduce_eol_opex\": [\n",
    "                    [\n",
    "                        1.0\n",
    "                    ]\n",
    "                ],\n",
    "                \"total_liquid_opex\": [\n",
    "                    [\n",
    "                        6.0\n",
    "                    ]\n",
    "                ],\n",
    "                \"support_boats_plant_fixed\": [\n",
    "                    [\n",
    "                        0.0\n",
    "                    ]\n",
    "                ],                \n",
    "                \"owner_team_oh\": [\n",
    "                    [\n",
    "                        172.15\n",
    "                    ]\n",
    "                ],                \n",
    "                \"first_year_opex\": [\n",
    "                    [\n",
    "                        0.75\n",
    "                    ]\n",
    "                ],\n",
    "                \"previous_year_full_opex\": [\n",
    "                    [\n",
    "                        0.95\n",
    "                    ]\n",
    "                ],\n",
    "                \"years_with_reduction\": [\n",
    "                    [\n",
    "                        5.0\n",
    "                    ]\n",
    "                ],\n",
    "                \"fuel_opex\": [\n",
    "                    [\n",
    "                        0.0\n",
    "                    ]\n",
    "                ], \n",
    "                \"end_of_life_year\": [\n",
    "                    [\n",
    "                        35.0\n",
    "                    ]\n",
    "                ]\n",
    "            }'''\n",
    "            "
   ]
  },
  {
   "cell_type": "code",
   "execution_count": 16,
   "metadata": {},
   "outputs": [],
   "source": [
    "json_input = json.loads(json_input_str)\n",
    "\n",
    "variable_liquid_portion=np.array(json_input['variable_liquid_portion'])\n",
    "total_liquid_opex=np.array(json_input['total_liquid_opex'])\n",
    "owner_team_oh=np.array(json_input['owner_team_oh'])\n",
    "variable_gas_opex=np.array(json_input['variable_gas_opex'])\n",
    "fuel_opex=np.array(json_input['fuel_opex'])\n",
    "support_boats_plant_fixed=np.array(json_input['support_boats_plant_fixed'])\n",
    "delta_opex_first_oil=np.array(json_input['delta_opex_first_oil'])\n",
    "first_year_opex=np.array(json_input['first_year_opex'])\n",
    "reduce_eol_opex=np.array(json_input['reduce_eol_opex'])\n",
    "previous_year_full_opex=np.array(json_input['previous_year_full_opex'])\n",
    "years_with_reduction=np.array(json_input['years_with_reduction'])\n",
    "end_of_life_year = np.array(json_input['end_of_life_year']).flatten()[0]\n",
    "\n",
    "total_liquid_opex = total_liquid_opex.flatten()\n",
    "support_boat_plant = support_boats_plant_fixed\n",
    "\n",
    "prod_start = 2012\n",
    "end_year_v = prod_start + end_of_life_year\n",
    "prod_year_dates = np.arange(prod_start, end_year_v)\n",
    "number_of_days = (prod_year_dates % 4 == 0) + 365\n",
    "oil_production = 1/(number_of_days / 1000)\n",
    "gas_production = 1/(number_of_days / 1000)\n"
   ]
  },
  {
   "cell_type": "code",
   "execution_count": 38,
   "metadata": {},
   "outputs": [
    {
     "data": {
      "text/plain": [
       "'{\"fixed_opex_year1\": [219.0], \"fixed_opex\": [[254.275, 281.65, 281.65, 281.65, 281.65, 281.65, 281.65, 281.65, 281.65, 281.65, 281.65, 281.65, 281.65, 281.65, 281.65, 281.65, 281.65, 281.65, 281.65, 281.65, 281.65, 281.65, 281.65, 281.65, 281.65, 281.65, 281.65, 281.65, 281.65, 281.65, 267.5675, 254.18912, 241.47967, 229.40569, 217.9354]], \"variable_opex_oil\": [[3.0, 3.0, 3.0, 3.0, 3.0, 3.0, 3.0, 3.0, 3.0, 3.0, 3.0, 3.0, 3.0, 3.0, 3.0, 3.0, 3.0, 3.0, 3.0, 3.0, 3.0, 3.0, 3.0, 3.0, 3.0, 3.0, 3.0, 3.0, 3.0, 3.0, 3.0, 3.0, 3.0, 3.0, 3.0]], \"variable_opex_gas\": [[0.5, 0.5, 0.5, 0.5, 0.5, 0.5, 0.5, 0.5, 0.5, 0.5, 0.5, 0.5, 0.5, 0.5, 0.5, 0.5, 0.5, 0.5, 0.5, 0.5, 0.5, 0.5, 0.5, 0.5, 0.5, 0.5, 0.5, 0.5, 0.5, 0.5, 0.5, 0.5, 0.5, 0.5, 0.5]], \"variable_opex\": [[3.5, 3.5, 3.5, 3.5, 3.5, 3.5, 3.5, 3.5, 3.5, 3.5, 3.5, 3.5, 3.5, 3.5, 3.5, 3.5, 3.5, 3.5, 3.5, 3.5, 3.5, 3.5, 3.5, 3.5, 3.5, 3.5, 3.5, 3.5, 3.5, 3.5, 3.5, 3.5, 3.5, 3.5, 3.5]], \"fuel_opex\": [[0.0, 0.0, 0.0, 0.0, 0.0, 0.0, 0.0, 0.0, 0.0, 0.0, 0.0, 0.0, 0.0, 0.0, 0.0, 0.0, 0.0, 0.0, 0.0, 0.0, 0.0, 0.0, 0.0, 0.0, 0.0, 0.0, 0.0, 0.0, 0.0, 0.0, 0.0, 0.0, 0.0, 0.0, 0.0]]}'"
      ]
     },
     "execution_count": 38,
     "metadata": {},
     "output_type": "execute_result"
    }
   ],
   "source": [
    "\n",
    "idx_yr_1 = np.argmax((prod_start + delta_opex_first_oil - np.tile(prod_year_dates, (1, 1))) == 0, axis=1)\n",
    "fixed_opex_year1 = (100 * total_liquid_opex * number_of_days[idx_yr_1] / 1000).reshape(-1, 1)\n",
    "reduced_opex_first_year = fixed_opex_year1 * first_year_opex / 2\n",
    "\n",
    "# Opex calculation full life\n",
    "fixed_opex = (owner_team_oh + support_boat_plant + fixed_opex_year1 / 2) \\\n",
    "             * (prod_year_dates - prod_start > 0) * (end_year_v - prod_year_dates > years_with_reduction)\n",
    "fixed_opex += (owner_team_oh + support_boat_plant + reduced_opex_first_year) \\\n",
    "              * (prod_year_dates - prod_start == 0)\n",
    "\n",
    "c_previous = previous_year_full_opex * (end_year_v - prod_year_dates <= years_with_reduction) * (\n",
    "        reduce_eol_opex == 1)\n",
    "\n",
    "# Phase out constant opex accouting for percentual reduction\n",
    "# nt = field_prod.oil_production.shape[1]\n",
    "nt = prod_year_dates.shape[0]\n",
    "\n",
    "nc = int(years_with_reduction[0])\n",
    "for j in range(nt - nc - 1, nt):\n",
    "    fixed_opex[:, j] += c_previous[:, j] * fixed_opex[:, j - 1]\n",
    "\n",
    "# Replace fixed opex with first year opex when value goes under\n",
    "fixed_opex = fixed_opex * (fixed_opex > reduced_opex_first_year) + \\\n",
    "             reduced_opex_first_year * (fixed_opex <= reduced_opex_first_year) * (fixed_opex > 0)\n",
    "\n",
    "# Variable portion of OPEX\n",
    "variable_opex_oil = variable_liquid_portion * ((prod_year_dates - prod_start) >= 0)\n",
    "variable_opex_gas = variable_gas_opex * ((prod_year_dates - prod_start) >= 0)\n",
    "\n",
    "variable_opex_o = (variable_opex_oil * oil_production * number_of_days / 1000)\n",
    "variable_opex_g = (variable_opex_gas * gas_production * number_of_days / 1000)\n",
    "\n",
    "variable_opex = variable_opex_o + variable_opex_g\n",
    "\n",
    "fuel_opex = fuel_opex * (prod_year_dates - prod_start >= 0)\n",
    "\n",
    "json.dumps(dict(fixed_opex_year1=fixed_opex_year1.flatten().round(5).tolist(),\n",
    "fixed_opex=fixed_opex.round(5).tolist(),\n",
    "variable_opex_oil=variable_opex_oil.round(5).tolist(),\n",
    "variable_opex_gas=variable_opex_gas.round(5).tolist(),\n",
    "variable_opex=variable_opex.round(5).tolist(),\n",
    "fuel_opex=fuel_opex.round(5).tolist()))"
   ]
  },
  {
   "cell_type": "code",
   "execution_count": 23,
   "metadata": {},
   "outputs": [
    {
     "data": {
      "text/plain": [
       "array([[0., 0., 0., 0., 0., 0., 0., 0., 0., 0., 0., 0., 0., 0., 0., 0.,\n",
       "        0., 0., 0., 0., 0., 0., 0., 0., 0., 0., 0., 0., 0., 0., 0., 0.,\n",
       "        0., 0., 0.]])"
      ]
     },
     "execution_count": 23,
     "metadata": {},
     "output_type": "execute_result"
    }
   ],
   "source": []
  },
  {
   "cell_type": "code",
   "execution_count": 15,
   "metadata": {},
   "outputs": [
    {
     "data": {
      "text/plain": [
       "array([366, 365, 365, 365, 366, 365, 365, 365, 366, 365, 365, 365, 366,\n",
       "       365, 365, 365, 366, 365, 365, 365, 366, 365, 365, 365, 366, 365,\n",
       "       365, 365, 366, 365, 365, 365, 366, 365, 365])"
      ]
     },
     "execution_count": 15,
     "metadata": {},
     "output_type": "execute_result"
    }
   ],
   "source": [
    "(prod_year_dates % 4 == 0) + 365"
   ]
  },
  {
   "cell_type": "code",
   "execution_count": null,
   "metadata": {},
   "outputs": [],
   "source": [
    "oil_production.shape"
   ]
  },
  {
   "cell_type": "code",
   "execution_count": null,
   "metadata": {},
   "outputs": [],
   "source": [
    "json_input_str = '''{\\\n",
    "                \"variable_liquid_portion\": [\n",
    "                    [\n",
    "                        3.0\n",
    "                    ]\n",
    "                ],\n",
    "                \"total_liquid_opex\": [\n",
    "                    [\n",
    "                        6.0\n",
    "                    ]\n",
    "                ],\n",
    "                \"owner_team_oh\": [\n",
    "                    [\n",
    "                        172.15\n",
    "                    ]\n",
    "                ],\n",
    "                \"previous_year_full_opex\": [\n",
    "                    [\n",
    "                        0.95\n",
    "                    ]\n",
    "                ],\n",
    "                \"support_boats_plant_fixed\": [\n",
    "                    [\n",
    "                        0.0\n",
    "                    ]\n",
    "                ],\n",
    "                \"delta_opex_first_oil\": [\n",
    "                    [\n",
    "                        1.0\n",
    "                    ]\n",
    "                ],\n",
    "                \"years_with_reduction\": [\n",
    "                    [\n",
    "                        5.0\n",
    "                    ]\n",
    "                ],\n",
    "                \"variable_gas_opex\": [\n",
    "                    [\n",
    "                        0.5\n",
    "                    ]\n",
    "                ],\n",
    "                \"first_year_opex\": [\n",
    "                    [\n",
    "                        0.75\n",
    "                    ]\n",
    "                ],\n",
    "                \"reduce_eol_opex\": [\n",
    "                    [\n",
    "                        1.0\n",
    "                    ]\n",
    "                ],\n",
    "                \"fuel_opex\": [\n",
    "                    [\n",
    "                        0.0\n",
    "                    ]\n",
    "                ]\n",
    "            }'''\n",
    "            "
   ]
  },
  {
   "cell_type": "code",
   "execution_count": null,
   "metadata": {},
   "outputs": [],
   "source": [
    "json_input_str"
   ]
  },
  {
   "cell_type": "code",
   "execution_count": null,
   "metadata": {},
   "outputs": [],
   "source": [
    "import json\n",
    "json_input = json.loads(json_input_str)"
   ]
  },
  {
   "cell_type": "code",
   "execution_count": null,
   "metadata": {},
   "outputs": [],
   "source": []
  },
  {
   "cell_type": "code",
   "execution_count": null,
   "metadata": {},
   "outputs": [],
   "source": []
  }
 ],
 "metadata": {
  "kernelspec": {
   "display_name": "Python 3",
   "language": "python",
   "name": "python3"
  },
  "language_info": {
   "codemirror_mode": {
    "name": "ipython",
    "version": 3
   },
   "file_extension": ".py",
   "mimetype": "text/x-python",
   "name": "python",
   "nbconvert_exporter": "python",
   "pygments_lexer": "ipython3",
   "version": "3.8.5"
  }
 },
 "nbformat": 4,
 "nbformat_minor": 4
}
